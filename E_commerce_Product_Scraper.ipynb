{
  "nbformat": 4,
  "nbformat_minor": 0,
  "metadata": {
    "colab": {
      "provenance": [],
      "authorship_tag": "ABX9TyN5dI875bHcr9PkiRlCb1S5",
      "include_colab_link": true
    },
    "kernelspec": {
      "name": "python3",
      "display_name": "Python 3"
    },
    "language_info": {
      "name": "python"
    }
  },
  "cells": [
    {
      "cell_type": "markdown",
      "metadata": {
        "id": "view-in-github",
        "colab_type": "text"
      },
      "source": [
        "<a href=\"https://colab.research.google.com/github/siddhi-svg/github.com-siddhigrover-web-scraping-project/blob/main/E_commerce_Product_Scraper.ipynb\" target=\"_parent\"><img src=\"https://colab.research.google.com/assets/colab-badge.svg\" alt=\"Open In Colab\"/></a>"
      ]
    },
    {
      "cell_type": "code",
      "source": [
        "import pandas as pd\n",
        "\n",
        "\n",
        "df = pd.read_csv(\"Flipcart_mobile1.csv\")\n",
        "print(\"Dataset shape:\", df.shape)\n",
        "print(\"Dataset columns:\", df.columns)\n",
        "print(\"First 5 rows of dataset:\")\n",
        "print(df.head())\n",
        "\n",
        "\n",
        "print(\"\\nColumns in dataset:\", df.columns)"
      ],
      "metadata": {
        "colab": {
          "base_uri": "https://localhost:8080/"
        },
        "id": "7QIqOm1jTJvJ",
        "outputId": "aca735c6-4e95-4b7b-e007-3d04c0dabd99"
      },
      "execution_count": null,
      "outputs": [
        {
          "output_type": "stream",
          "name": "stdout",
          "text": [
            "Dataset shape: (984, 8)\n",
            "Dataset columns: Index(['Unnamed: 0', 'Name', 'Link', 'Rating', 'Total_Ratings',\n",
            "       'Total_Reviews', 'Actual_Price', 'Discounted_Price'],\n",
            "      dtype='object')\n",
            "First 5 rows of dataset:\n",
            "   Unnamed: 0                                             Name  \\\n",
            "0           0              APPLE iPhone 13 (Starlight, 128 GB)   \n",
            "1           1               APPLE iPhone 13 (Midnight, 128 GB)   \n",
            "2           2                   APPLE iPhone 13 (Pink, 128 GB)   \n",
            "3           3  OnePlus Nord CE 3 Lite 5G (Pastel Lime, 128 GB)   \n",
            "4           4                   APPLE iPhone 13 (Blue, 128 GB)   \n",
            "\n",
            "                                                Link  Rating  \\\n",
            "0  https://rukminim2.flixcart.com/image/312/312/k...     4.7   \n",
            "1  https://rukminim2.flixcart.com/image/312/312/k...     4.7   \n",
            "2  https://rukminim2.flixcart.com/image/312/312/k...     4.7   \n",
            "3  https://rukminim2.flixcart.com/image/312/312/x...     4.4   \n",
            "4  https://rukminim2.flixcart.com/image/312/312/k...     4.7   \n",
            "\n",
            "      Total_Ratings   Total_Reviews Actual_Price Discounted_Price  \n",
            "0  2,58,098 Ratings  12,692 Reviews      ₹59,900          ₹52,499  \n",
            "1  2,58,098 Ratings  12,692 Reviews      ₹59,900          ₹52,499  \n",
            "2  2,58,098 Ratings  12,692 Reviews      ₹59,900          ₹52,499  \n",
            "3     6,801 Ratings     495 Reviews          NaN          ₹19,999  \n",
            "4  2,58,098 Ratings  12,692 Reviews      ₹59,900          ₹52,499  \n",
            "\n",
            "Columns in dataset: Index(['Unnamed: 0', 'Name', 'Link', 'Rating', 'Total_Ratings',\n",
            "       'Total_Reviews', 'Actual_Price', 'Discounted_Price'],\n",
            "      dtype='object')\n"
          ]
        }
      ]
    },
    {
      "cell_type": "code",
      "source": [
        "df.columns = df.columns.str.strip()\n",
        "\n",
        "\n",
        "if \"Actual_Price\" in df.columns:\n",
        "    df[\"Actual_Price\"] = df[\"Actual_Price\"].replace('[\\₹,]', '', regex=True).astype(float)\n",
        "\n",
        "if \"Discounted_Price\" in df.columns:\n",
        "    df[\"Discounted_Price\"] = df[\"Discounted_Price\"].replace('[\\₹,]', '', regex=True).astype(float)\n",
        "\n",
        "if \"Rating\" in df.columns:\n",
        "    df[\"Rating\"] = pd.to_numeric(df[\"Rating\"], errors=\"coerce\")\n",
        "\n",
        "print(\"\\nCleaned dataset:\")\n",
        "print(df.head())"
      ],
      "metadata": {
        "colab": {
          "base_uri": "https://localhost:8080/"
        },
        "id": "0PLBM8mDTRYQ",
        "outputId": "77a24c8b-66be-440e-de35-411f8f6dfe1b"
      },
      "execution_count": null,
      "outputs": [
        {
          "output_type": "stream",
          "name": "stdout",
          "text": [
            "\n",
            "Cleaned dataset:\n",
            "   Unnamed: 0                                             Name  \\\n",
            "0           0              APPLE iPhone 13 (Starlight, 128 GB)   \n",
            "1           1               APPLE iPhone 13 (Midnight, 128 GB)   \n",
            "2           2                   APPLE iPhone 13 (Pink, 128 GB)   \n",
            "3           3  OnePlus Nord CE 3 Lite 5G (Pastel Lime, 128 GB)   \n",
            "4           4                   APPLE iPhone 13 (Blue, 128 GB)   \n",
            "\n",
            "                                                Link  Rating  \\\n",
            "0  https://rukminim2.flixcart.com/image/312/312/k...     4.7   \n",
            "1  https://rukminim2.flixcart.com/image/312/312/k...     4.7   \n",
            "2  https://rukminim2.flixcart.com/image/312/312/k...     4.7   \n",
            "3  https://rukminim2.flixcart.com/image/312/312/x...     4.4   \n",
            "4  https://rukminim2.flixcart.com/image/312/312/k...     4.7   \n",
            "\n",
            "      Total_Ratings   Total_Reviews  Actual_Price  Discounted_Price  \n",
            "0  2,58,098 Ratings  12,692 Reviews       59900.0           52499.0  \n",
            "1  2,58,098 Ratings  12,692 Reviews       59900.0           52499.0  \n",
            "2  2,58,098 Ratings  12,692 Reviews       59900.0           52499.0  \n",
            "3     6,801 Ratings     495 Reviews           NaN           19999.0  \n",
            "4  2,58,098 Ratings  12,692 Reviews       59900.0           52499.0  \n"
          ]
        }
      ]
    },
    {
      "cell_type": "code",
      "source": [
        "df.to_excel(\"flipkart_products.xlsx\", index=False)\n",
        "print(\"✅ Data saved to flipkart_products.xlsx\")"
      ],
      "metadata": {
        "colab": {
          "base_uri": "https://localhost:8080/"
        },
        "id": "mjFgrwoWTlDF",
        "outputId": "6482ec0f-794e-40ca-a422-d2ea9f03986b"
      },
      "execution_count": null,
      "outputs": [
        {
          "output_type": "stream",
          "name": "stdout",
          "text": [
            "✅ Data saved to flipkart_products.xlsx\n"
          ]
        }
      ]
    },
    {
      "cell_type": "code",
      "source": [
        "avg_price = df[\"Discounted_Price\"].mean()\n",
        "print(\"✅ Average Price of Products:\", round(avg_price, 2))"
      ],
      "metadata": {
        "colab": {
          "base_uri": "https://localhost:8080/"
        },
        "id": "UFZtfYE8Trx1",
        "outputId": "69087651-5924-4fa3-ae03-09276ee41356"
      },
      "execution_count": null,
      "outputs": [
        {
          "output_type": "stream",
          "name": "stdout",
          "text": [
            "✅ Average Price of Products: 24477.88\n"
          ]
        }
      ]
    },
    {
      "cell_type": "code",
      "source": [
        "top_rated = df.loc[df[\"Rating\"].idxmax()]\n",
        "\n",
        "print(\"\\n✅ Top Rated Product:\")\n",
        "print(top_rated)"
      ],
      "metadata": {
        "colab": {
          "base_uri": "https://localhost:8080/"
        },
        "id": "0klmccihT92V",
        "outputId": "2de97fea-46f8-45f9-a806-213a393c3bda"
      },
      "execution_count": null,
      "outputs": [
        {
          "output_type": "stream",
          "name": "stdout",
          "text": [
            "\n",
            "✅ Top Rated Product:\n",
            "Unnamed: 0                                                        501\n",
            "Name                             Tecno Pop 7 pro (?Uyuni Blue, 64 GB)\n",
            "Link                https://rukminim2.flixcart.com/image/312/312/x...\n",
            "Rating                                                            4.8\n",
            "Total_Ratings                                               9 Ratings\n",
            "Total_Reviews                                               2 Reviews\n",
            "Actual_Price                                                   ₹8,999\n",
            "Discounted_Price                                               ₹7,490\n",
            "Name: 501, dtype: object\n"
          ]
        }
      ]
    }
  ]
}